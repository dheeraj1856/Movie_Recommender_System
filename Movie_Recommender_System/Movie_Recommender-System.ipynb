{
  "metadata": {
    "kernelspec": {
      "name": "python",
      "display_name": "Python (Pyodide)",
      "language": "python"
    },
    "language_info": {
      "codemirror_mode": {
        "name": "python",
        "version": 3
      },
      "file_extension": ".py",
      "mimetype": "text/x-python",
      "name": "python",
      "nbconvert_exporter": "python",
      "pygments_lexer": "ipython3",
      "version": "3.8"
    }
  },
  "nbformat_minor": 4,
  "nbformat": 4,
  "cells": [
    {
      "cell_type": "code",
      "source": "import numpy as np\nimport pandas as pd",
      "metadata": {
        "trusted": true
      },
      "outputs": [],
      "execution_count": 1
    },
    {
      "cell_type": "code",
      "source": "movies = pd.read_csv('tmdb_5000_movies.csv')\ncredits = pd.read_csv('tmdb_5000_credits.csv')",
      "metadata": {
        "trusted": true
      },
      "outputs": [],
      "execution_count": 68
    },
    {
      "cell_type": "code",
      "source": "movies.head(1)",
      "metadata": {
        "trusted": true
      },
      "outputs": [
        {
          "execution_count": 69,
          "output_type": "execute_result",
          "data": {
            "text/plain": "      budget                                             genres  \\\n0  237000000  [{\"id\": 28, \"name\": \"Action\"}, {\"id\": 12, \"nam...   \n\n                      homepage     id  \\\n0  http://www.avatarmovie.com/  19995   \n\n                                            keywords original_language  \\\n0  [{\"id\": 1463, \"name\": \"culture clash\"}, {\"id\":...                en   \n\n  original_title                                           overview  \\\n0         Avatar  In the 22nd century, a paraplegic Marine is di...   \n\n   popularity                               production_companies  \\\n0  150.437577  [{\"name\": \"Ingenious Film Partners\", \"id\": 289...   \n\n                                production_countries release_date     revenue  \\\n0  [{\"iso_3166_1\": \"US\", \"name\": \"United States o...   2009-12-10  2787965087   \n\n   runtime                                   spoken_languages    status  \\\n0    162.0  [{\"iso_639_1\": \"en\", \"name\": \"English\"}, {\"iso...  Released   \n\n                       tagline   title  vote_average  vote_count  \n0  Enter the World of Pandora.  Avatar           7.2       11800  ",
            "text/html": "<div>\n<style scoped>\n    .dataframe tbody tr th:only-of-type {\n        vertical-align: middle;\n    }\n\n    .dataframe tbody tr th {\n        vertical-align: top;\n    }\n\n    .dataframe thead th {\n        text-align: right;\n    }\n</style>\n<table border=\"1\" class=\"dataframe\">\n  <thead>\n    <tr style=\"text-align: right;\">\n      <th></th>\n      <th>budget</th>\n      <th>genres</th>\n      <th>homepage</th>\n      <th>id</th>\n      <th>keywords</th>\n      <th>original_language</th>\n      <th>original_title</th>\n      <th>overview</th>\n      <th>popularity</th>\n      <th>production_companies</th>\n      <th>production_countries</th>\n      <th>release_date</th>\n      <th>revenue</th>\n      <th>runtime</th>\n      <th>spoken_languages</th>\n      <th>status</th>\n      <th>tagline</th>\n      <th>title</th>\n      <th>vote_average</th>\n      <th>vote_count</th>\n    </tr>\n  </thead>\n  <tbody>\n    <tr>\n      <th>0</th>\n      <td>237000000</td>\n      <td>[{\"id\": 28, \"name\": \"Action\"}, {\"id\": 12, \"nam...</td>\n      <td>http://www.avatarmovie.com/</td>\n      <td>19995</td>\n      <td>[{\"id\": 1463, \"name\": \"culture clash\"}, {\"id\":...</td>\n      <td>en</td>\n      <td>Avatar</td>\n      <td>In the 22nd century, a paraplegic Marine is di...</td>\n      <td>150.437577</td>\n      <td>[{\"name\": \"Ingenious Film Partners\", \"id\": 289...</td>\n      <td>[{\"iso_3166_1\": \"US\", \"name\": \"United States o...</td>\n      <td>2009-12-10</td>\n      <td>2787965087</td>\n      <td>162.0</td>\n      <td>[{\"iso_639_1\": \"en\", \"name\": \"English\"}, {\"iso...</td>\n      <td>Released</td>\n      <td>Enter the World of Pandora.</td>\n      <td>Avatar</td>\n      <td>7.2</td>\n      <td>11800</td>\n    </tr>\n  </tbody>\n</table>\n</div>"
          },
          "metadata": {}
        }
      ],
      "execution_count": 69
    },
    {
      "cell_type": "code",
      "source": "credits.head(1)",
      "metadata": {
        "trusted": true
      },
      "outputs": [
        {
          "execution_count": 70,
          "output_type": "execute_result",
          "data": {
            "text/plain": "   movie_id   title                                               cast  \\\n0     19995  Avatar  [{\"cast_id\": 242, \"character\": \"Jake Sully\", \"...   \n\n                                                crew  \n0  [{\"credit_id\": \"52fe48009251416c750aca23\", \"de...  ",
            "text/html": "<div>\n<style scoped>\n    .dataframe tbody tr th:only-of-type {\n        vertical-align: middle;\n    }\n\n    .dataframe tbody tr th {\n        vertical-align: top;\n    }\n\n    .dataframe thead th {\n        text-align: right;\n    }\n</style>\n<table border=\"1\" class=\"dataframe\">\n  <thead>\n    <tr style=\"text-align: right;\">\n      <th></th>\n      <th>movie_id</th>\n      <th>title</th>\n      <th>cast</th>\n      <th>crew</th>\n    </tr>\n  </thead>\n  <tbody>\n    <tr>\n      <th>0</th>\n      <td>19995</td>\n      <td>Avatar</td>\n      <td>[{\"cast_id\": 242, \"character\": \"Jake Sully\", \"...</td>\n      <td>[{\"credit_id\": \"52fe48009251416c750aca23\", \"de...</td>\n    </tr>\n  </tbody>\n</table>\n</div>"
          },
          "metadata": {}
        }
      ],
      "execution_count": 70
    },
    {
      "cell_type": "code",
      "source": "### Merging data frames to get single dataframe",
      "metadata": {
        "trusted": true
      },
      "outputs": [],
      "execution_count": 16
    },
    {
      "cell_type": "code",
      "source": "movies = movies.merge(credits,on='title')",
      "metadata": {
        "trusted": true
      },
      "outputs": [],
      "execution_count": 71
    },
    {
      "cell_type": "code",
      "source": "movies.head(1)",
      "metadata": {
        "trusted": true
      },
      "outputs": [
        {
          "execution_count": 72,
          "output_type": "execute_result",
          "data": {
            "text/plain": "      budget                                             genres  \\\n0  237000000  [{\"id\": 28, \"name\": \"Action\"}, {\"id\": 12, \"nam...   \n\n                      homepage     id  \\\n0  http://www.avatarmovie.com/  19995   \n\n                                            keywords original_language  \\\n0  [{\"id\": 1463, \"name\": \"culture clash\"}, {\"id\":...                en   \n\n  original_title                                           overview  \\\n0         Avatar  In the 22nd century, a paraplegic Marine is di...   \n\n   popularity                               production_companies  ... runtime  \\\n0  150.437577  [{\"name\": \"Ingenious Film Partners\", \"id\": 289...  ...   162.0   \n\n                                    spoken_languages    status  \\\n0  [{\"iso_639_1\": \"en\", \"name\": \"English\"}, {\"iso...  Released   \n\n                       tagline   title vote_average vote_count movie_id  \\\n0  Enter the World of Pandora.  Avatar          7.2      11800    19995   \n\n                                                cast  \\\n0  [{\"cast_id\": 242, \"character\": \"Jake Sully\", \"...   \n\n                                                crew  \n0  [{\"credit_id\": \"52fe48009251416c750aca23\", \"de...  \n\n[1 rows x 23 columns]",
            "text/html": "<div>\n<style scoped>\n    .dataframe tbody tr th:only-of-type {\n        vertical-align: middle;\n    }\n\n    .dataframe tbody tr th {\n        vertical-align: top;\n    }\n\n    .dataframe thead th {\n        text-align: right;\n    }\n</style>\n<table border=\"1\" class=\"dataframe\">\n  <thead>\n    <tr style=\"text-align: right;\">\n      <th></th>\n      <th>budget</th>\n      <th>genres</th>\n      <th>homepage</th>\n      <th>id</th>\n      <th>keywords</th>\n      <th>original_language</th>\n      <th>original_title</th>\n      <th>overview</th>\n      <th>popularity</th>\n      <th>production_companies</th>\n      <th>...</th>\n      <th>runtime</th>\n      <th>spoken_languages</th>\n      <th>status</th>\n      <th>tagline</th>\n      <th>title</th>\n      <th>vote_average</th>\n      <th>vote_count</th>\n      <th>movie_id</th>\n      <th>cast</th>\n      <th>crew</th>\n    </tr>\n  </thead>\n  <tbody>\n    <tr>\n      <th>0</th>\n      <td>237000000</td>\n      <td>[{\"id\": 28, \"name\": \"Action\"}, {\"id\": 12, \"nam...</td>\n      <td>http://www.avatarmovie.com/</td>\n      <td>19995</td>\n      <td>[{\"id\": 1463, \"name\": \"culture clash\"}, {\"id\":...</td>\n      <td>en</td>\n      <td>Avatar</td>\n      <td>In the 22nd century, a paraplegic Marine is di...</td>\n      <td>150.437577</td>\n      <td>[{\"name\": \"Ingenious Film Partners\", \"id\": 289...</td>\n      <td>...</td>\n      <td>162.0</td>\n      <td>[{\"iso_639_1\": \"en\", \"name\": \"English\"}, {\"iso...</td>\n      <td>Released</td>\n      <td>Enter the World of Pandora.</td>\n      <td>Avatar</td>\n      <td>7.2</td>\n      <td>11800</td>\n      <td>19995</td>\n      <td>[{\"cast_id\": 242, \"character\": \"Jake Sully\", \"...</td>\n      <td>[{\"credit_id\": \"52fe48009251416c750aca23\", \"de...</td>\n    </tr>\n  </tbody>\n</table>\n<p>1 rows × 23 columns</p>\n</div>"
          },
          "metadata": {}
        }
      ],
      "execution_count": 72
    },
    {
      "cell_type": "code",
      "source": "### Removing unwanted columns from the data\n### keeping items are below\n### genres\n### id\n### keywords\n### title\n### overview\n### cast\n### crew\n\nmovies = movies[['movie_id', 'title', 'overview', 'genres', 'keywords', 'cast', 'crew']]",
      "metadata": {
        "trusted": true
      },
      "outputs": [],
      "execution_count": 73
    },
    {
      "cell_type": "code",
      "source": "movies.isnull().sum()",
      "metadata": {
        "trusted": true
      },
      "outputs": [
        {
          "execution_count": 84,
          "output_type": "execute_result",
          "data": {
            "text/plain": "movie_id    0\ntitle       0\noverview    0\ngenres      0\nkeywords    0\ncast        0\ncrew        0\ndtype: int64"
          },
          "metadata": {}
        }
      ],
      "execution_count": 84
    },
    {
      "cell_type": "code",
      "source": "movies.dropna(inplace = True)",
      "metadata": {
        "trusted": true
      },
      "outputs": [],
      "execution_count": 83
    },
    {
      "cell_type": "code",
      "source": "movies.duplicated().sum()",
      "metadata": {
        "trusted": true
      },
      "outputs": [
        {
          "execution_count": 85,
          "output_type": "execute_result",
          "data": {
            "text/plain": "0"
          },
          "metadata": {}
        }
      ],
      "execution_count": 85
    },
    {
      "cell_type": "code",
      "source": "movies.iloc[0].genres",
      "metadata": {
        "trusted": true
      },
      "outputs": [
        {
          "execution_count": 86,
          "output_type": "execute_result",
          "data": {
            "text/plain": "'[{\"id\": 28, \"name\": \"Action\"}, {\"id\": 12, \"name\": \"Adventure\"}, {\"id\": 14, \"name\": \"Fantasy\"}, {\"id\": 878, \"name\": \"Science Fiction\"}]'"
          },
          "metadata": {}
        }
      ],
      "execution_count": 86
    },
    {
      "cell_type": "code",
      "source": "#'[{\"id\": 28, \"name\": \"Action\"}, {\"id\": 12, \"name\": \"Adventure\"}, {\"id\": 14, \"name\": \"Fantasy\"}, {\"id\": 878, \"name\": \"Science Fiction\"}]'\n#['Action', 'Adventure', 'Fantasy', 'SciFi']",
      "metadata": {
        "trusted": true
      },
      "outputs": [],
      "execution_count": 30
    },
    {
      "cell_type": "code",
      "source": "# to make list\nimport ast\nast.literal_eval('[{\"id\": 28, \"name\": \"Action\"}, {\"id\": 12, \"name\": \"Adventure\"}, {\"id\": 14, \"name\": \"Fantasy\"}, {\"id\": 878, \"name\": \"Science Fiction\"}]')",
      "metadata": {
        "trusted": true
      },
      "outputs": [
        {
          "execution_count": 79,
          "output_type": "execute_result",
          "data": {
            "text/plain": "[{'id': 28, 'name': 'Action'},\n {'id': 12, 'name': 'Adventure'},\n {'id': 14, 'name': 'Fantasy'},\n {'id': 878, 'name': 'Science Fiction'}]"
          },
          "metadata": {}
        }
      ],
      "execution_count": 79
    },
    {
      "cell_type": "code",
      "source": "def convert(obj):\n    L = []\n    for i in ast.literal_eval(obj):\n        L.append(i['name'])\n    return L",
      "metadata": {
        "trusted": true
      },
      "outputs": [],
      "execution_count": 80
    },
    {
      "cell_type": "code",
      "source": "def convert3(obj):\n    L = []\n    counter = 0\n    for i in ast.literal_eval(obj):\n        if counter != 3:\n            L.append(i['name'])\n            counter+=1\n        else:\n            break\n    return L",
      "metadata": {
        "trusted": true
      },
      "outputs": [],
      "execution_count": 81
    },
    {
      "cell_type": "code",
      "source": "movies['genres'] = movies['genres'].apply(convert)",
      "metadata": {
        "trusted": true
      },
      "outputs": [],
      "execution_count": 88
    },
    {
      "cell_type": "code",
      "source": "movies['keywords'] = movies['keywords'].apply(convert)",
      "metadata": {
        "trusted": true
      },
      "outputs": [],
      "execution_count": 89
    },
    {
      "cell_type": "code",
      "source": "movies['cast'] = movies['cast'].apply(convert3)",
      "metadata": {
        "trusted": true
      },
      "outputs": [],
      "execution_count": 91
    },
    {
      "cell_type": "code",
      "source": "movies.head()",
      "metadata": {
        "trusted": true
      },
      "outputs": [
        {
          "execution_count": 92,
          "output_type": "execute_result",
          "data": {
            "text/plain": "   movie_id                                     title  \\\n0     19995                                    Avatar   \n1       285  Pirates of the Caribbean: At World's End   \n2    206647                                   Spectre   \n3     49026                     The Dark Knight Rises   \n4     49529                               John Carter   \n\n                                            overview  \\\n0  In the 22nd century, a paraplegic Marine is di...   \n1  Captain Barbossa, long believed to be dead, ha...   \n2  A cryptic message from Bond’s past sends him o...   \n3  Following the death of District Attorney Harve...   \n4  John Carter is a war-weary, former military ca...   \n\n                                          genres  \\\n0  [Action, Adventure, Fantasy, Science Fiction]   \n1                   [Adventure, Fantasy, Action]   \n2                     [Action, Adventure, Crime]   \n3               [Action, Crime, Drama, Thriller]   \n4           [Action, Adventure, Science Fiction]   \n\n                                            keywords  \\\n0  [culture clash, future, space war, space colon...   \n1  [ocean, drug abuse, exotic island, east india ...   \n2  [spy, based on novel, secret agent, sequel, mi...   \n3  [dc comics, crime fighter, terrorist, secret i...   \n4  [based on novel, mars, medallion, space travel...   \n\n                                               cast  \\\n0  [Sam Worthington, Zoe Saldana, Sigourney Weaver]   \n1     [Johnny Depp, Orlando Bloom, Keira Knightley]   \n2      [Daniel Craig, Christoph Waltz, Léa Seydoux]   \n3      [Christian Bale, Michael Caine, Gary Oldman]   \n4    [Taylor Kitsch, Lynn Collins, Samantha Morton]   \n\n                                                crew  \n0  [{\"credit_id\": \"52fe48009251416c750aca23\", \"de...  \n1  [{\"credit_id\": \"52fe4232c3a36847f800b579\", \"de...  \n2  [{\"credit_id\": \"54805967c3a36829b5002c41\", \"de...  \n3  [{\"credit_id\": \"52fe4781c3a36847f81398c3\", \"de...  \n4  [{\"credit_id\": \"52fe479ac3a36847f813eaa3\", \"de...  ",
            "text/html": "<div>\n<style scoped>\n    .dataframe tbody tr th:only-of-type {\n        vertical-align: middle;\n    }\n\n    .dataframe tbody tr th {\n        vertical-align: top;\n    }\n\n    .dataframe thead th {\n        text-align: right;\n    }\n</style>\n<table border=\"1\" class=\"dataframe\">\n  <thead>\n    <tr style=\"text-align: right;\">\n      <th></th>\n      <th>movie_id</th>\n      <th>title</th>\n      <th>overview</th>\n      <th>genres</th>\n      <th>keywords</th>\n      <th>cast</th>\n      <th>crew</th>\n    </tr>\n  </thead>\n  <tbody>\n    <tr>\n      <th>0</th>\n      <td>19995</td>\n      <td>Avatar</td>\n      <td>In the 22nd century, a paraplegic Marine is di...</td>\n      <td>[Action, Adventure, Fantasy, Science Fiction]</td>\n      <td>[culture clash, future, space war, space colon...</td>\n      <td>[Sam Worthington, Zoe Saldana, Sigourney Weaver]</td>\n      <td>[{\"credit_id\": \"52fe48009251416c750aca23\", \"de...</td>\n    </tr>\n    <tr>\n      <th>1</th>\n      <td>285</td>\n      <td>Pirates of the Caribbean: At World's End</td>\n      <td>Captain Barbossa, long believed to be dead, ha...</td>\n      <td>[Adventure, Fantasy, Action]</td>\n      <td>[ocean, drug abuse, exotic island, east india ...</td>\n      <td>[Johnny Depp, Orlando Bloom, Keira Knightley]</td>\n      <td>[{\"credit_id\": \"52fe4232c3a36847f800b579\", \"de...</td>\n    </tr>\n    <tr>\n      <th>2</th>\n      <td>206647</td>\n      <td>Spectre</td>\n      <td>A cryptic message from Bond’s past sends him o...</td>\n      <td>[Action, Adventure, Crime]</td>\n      <td>[spy, based on novel, secret agent, sequel, mi...</td>\n      <td>[Daniel Craig, Christoph Waltz, Léa Seydoux]</td>\n      <td>[{\"credit_id\": \"54805967c3a36829b5002c41\", \"de...</td>\n    </tr>\n    <tr>\n      <th>3</th>\n      <td>49026</td>\n      <td>The Dark Knight Rises</td>\n      <td>Following the death of District Attorney Harve...</td>\n      <td>[Action, Crime, Drama, Thriller]</td>\n      <td>[dc comics, crime fighter, terrorist, secret i...</td>\n      <td>[Christian Bale, Michael Caine, Gary Oldman]</td>\n      <td>[{\"credit_id\": \"52fe4781c3a36847f81398c3\", \"de...</td>\n    </tr>\n    <tr>\n      <th>4</th>\n      <td>49529</td>\n      <td>John Carter</td>\n      <td>John Carter is a war-weary, former military ca...</td>\n      <td>[Action, Adventure, Science Fiction]</td>\n      <td>[based on novel, mars, medallion, space travel...</td>\n      <td>[Taylor Kitsch, Lynn Collins, Samantha Morton]</td>\n      <td>[{\"credit_id\": \"52fe479ac3a36847f813eaa3\", \"de...</td>\n    </tr>\n  </tbody>\n</table>\n</div>"
          },
          "metadata": {}
        }
      ],
      "execution_count": 92
    },
    {
      "cell_type": "code",
      "source": "def fetch_director(obj):\n    L = []\n    for i in ast.literal_eval(obj):\n        if i['job'] == 'Director':\n            L.append(i['name'])\n            break\n    return L",
      "metadata": {
        "trusted": true
      },
      "outputs": [],
      "execution_count": 96
    },
    {
      "cell_type": "code",
      "source": "movies['crew'] = movies['crew'].apply(fetch_director)",
      "metadata": {
        "trusted": true
      },
      "outputs": [],
      "execution_count": 99
    },
    {
      "cell_type": "code",
      "source": "movies.head()",
      "metadata": {
        "trusted": true
      },
      "outputs": [
        {
          "execution_count": 100,
          "output_type": "execute_result",
          "data": {
            "text/plain": "   movie_id                                     title  \\\n0     19995                                    Avatar   \n1       285  Pirates of the Caribbean: At World's End   \n2    206647                                   Spectre   \n3     49026                     The Dark Knight Rises   \n4     49529                               John Carter   \n\n                                            overview  \\\n0  In the 22nd century, a paraplegic Marine is di...   \n1  Captain Barbossa, long believed to be dead, ha...   \n2  A cryptic message from Bond’s past sends him o...   \n3  Following the death of District Attorney Harve...   \n4  John Carter is a war-weary, former military ca...   \n\n                                          genres  \\\n0  [Action, Adventure, Fantasy, Science Fiction]   \n1                   [Adventure, Fantasy, Action]   \n2                     [Action, Adventure, Crime]   \n3               [Action, Crime, Drama, Thriller]   \n4           [Action, Adventure, Science Fiction]   \n\n                                            keywords  \\\n0  [culture clash, future, space war, space colon...   \n1  [ocean, drug abuse, exotic island, east india ...   \n2  [spy, based on novel, secret agent, sequel, mi...   \n3  [dc comics, crime fighter, terrorist, secret i...   \n4  [based on novel, mars, medallion, space travel...   \n\n                                               cast                 crew  \n0  [Sam Worthington, Zoe Saldana, Sigourney Weaver]      [James Cameron]  \n1     [Johnny Depp, Orlando Bloom, Keira Knightley]     [Gore Verbinski]  \n2      [Daniel Craig, Christoph Waltz, Léa Seydoux]         [Sam Mendes]  \n3      [Christian Bale, Michael Caine, Gary Oldman]  [Christopher Nolan]  \n4    [Taylor Kitsch, Lynn Collins, Samantha Morton]     [Andrew Stanton]  ",
            "text/html": "<div>\n<style scoped>\n    .dataframe tbody tr th:only-of-type {\n        vertical-align: middle;\n    }\n\n    .dataframe tbody tr th {\n        vertical-align: top;\n    }\n\n    .dataframe thead th {\n        text-align: right;\n    }\n</style>\n<table border=\"1\" class=\"dataframe\">\n  <thead>\n    <tr style=\"text-align: right;\">\n      <th></th>\n      <th>movie_id</th>\n      <th>title</th>\n      <th>overview</th>\n      <th>genres</th>\n      <th>keywords</th>\n      <th>cast</th>\n      <th>crew</th>\n    </tr>\n  </thead>\n  <tbody>\n    <tr>\n      <th>0</th>\n      <td>19995</td>\n      <td>Avatar</td>\n      <td>In the 22nd century, a paraplegic Marine is di...</td>\n      <td>[Action, Adventure, Fantasy, Science Fiction]</td>\n      <td>[culture clash, future, space war, space colon...</td>\n      <td>[Sam Worthington, Zoe Saldana, Sigourney Weaver]</td>\n      <td>[James Cameron]</td>\n    </tr>\n    <tr>\n      <th>1</th>\n      <td>285</td>\n      <td>Pirates of the Caribbean: At World's End</td>\n      <td>Captain Barbossa, long believed to be dead, ha...</td>\n      <td>[Adventure, Fantasy, Action]</td>\n      <td>[ocean, drug abuse, exotic island, east india ...</td>\n      <td>[Johnny Depp, Orlando Bloom, Keira Knightley]</td>\n      <td>[Gore Verbinski]</td>\n    </tr>\n    <tr>\n      <th>2</th>\n      <td>206647</td>\n      <td>Spectre</td>\n      <td>A cryptic message from Bond’s past sends him o...</td>\n      <td>[Action, Adventure, Crime]</td>\n      <td>[spy, based on novel, secret agent, sequel, mi...</td>\n      <td>[Daniel Craig, Christoph Waltz, Léa Seydoux]</td>\n      <td>[Sam Mendes]</td>\n    </tr>\n    <tr>\n      <th>3</th>\n      <td>49026</td>\n      <td>The Dark Knight Rises</td>\n      <td>Following the death of District Attorney Harve...</td>\n      <td>[Action, Crime, Drama, Thriller]</td>\n      <td>[dc comics, crime fighter, terrorist, secret i...</td>\n      <td>[Christian Bale, Michael Caine, Gary Oldman]</td>\n      <td>[Christopher Nolan]</td>\n    </tr>\n    <tr>\n      <th>4</th>\n      <td>49529</td>\n      <td>John Carter</td>\n      <td>John Carter is a war-weary, former military ca...</td>\n      <td>[Action, Adventure, Science Fiction]</td>\n      <td>[based on novel, mars, medallion, space travel...</td>\n      <td>[Taylor Kitsch, Lynn Collins, Samantha Morton]</td>\n      <td>[Andrew Stanton]</td>\n    </tr>\n  </tbody>\n</table>\n</div>"
          },
          "metadata": {}
        }
      ],
      "execution_count": 100
    },
    {
      "cell_type": "code",
      "source": "# Converting overview into list\nmovies['overview'] = movies['overview'].apply(lambda x:x.split())",
      "metadata": {
        "trusted": true
      },
      "outputs": [],
      "execution_count": 102
    },
    {
      "cell_type": "code",
      "source": "movies.head()",
      "metadata": {
        "trusted": true
      },
      "outputs": [
        {
          "execution_count": 103,
          "output_type": "execute_result",
          "data": {
            "text/plain": "   movie_id                                     title  \\\n0     19995                                    Avatar   \n1       285  Pirates of the Caribbean: At World's End   \n2    206647                                   Spectre   \n3     49026                     The Dark Knight Rises   \n4     49529                               John Carter   \n\n                                            overview  \\\n0  [In, the, 22nd, century,, a, paraplegic, Marin...   \n1  [Captain, Barbossa,, long, believed, to, be, d...   \n2  [A, cryptic, message, from, Bond’s, past, send...   \n3  [Following, the, death, of, District, Attorney...   \n4  [John, Carter, is, a, war-weary,, former, mili...   \n\n                                          genres  \\\n0  [Action, Adventure, Fantasy, Science Fiction]   \n1                   [Adventure, Fantasy, Action]   \n2                     [Action, Adventure, Crime]   \n3               [Action, Crime, Drama, Thriller]   \n4           [Action, Adventure, Science Fiction]   \n\n                                            keywords  \\\n0  [culture clash, future, space war, space colon...   \n1  [ocean, drug abuse, exotic island, east india ...   \n2  [spy, based on novel, secret agent, sequel, mi...   \n3  [dc comics, crime fighter, terrorist, secret i...   \n4  [based on novel, mars, medallion, space travel...   \n\n                                               cast                 crew  \n0  [Sam Worthington, Zoe Saldana, Sigourney Weaver]      [James Cameron]  \n1     [Johnny Depp, Orlando Bloom, Keira Knightley]     [Gore Verbinski]  \n2      [Daniel Craig, Christoph Waltz, Léa Seydoux]         [Sam Mendes]  \n3      [Christian Bale, Michael Caine, Gary Oldman]  [Christopher Nolan]  \n4    [Taylor Kitsch, Lynn Collins, Samantha Morton]     [Andrew Stanton]  ",
            "text/html": "<div>\n<style scoped>\n    .dataframe tbody tr th:only-of-type {\n        vertical-align: middle;\n    }\n\n    .dataframe tbody tr th {\n        vertical-align: top;\n    }\n\n    .dataframe thead th {\n        text-align: right;\n    }\n</style>\n<table border=\"1\" class=\"dataframe\">\n  <thead>\n    <tr style=\"text-align: right;\">\n      <th></th>\n      <th>movie_id</th>\n      <th>title</th>\n      <th>overview</th>\n      <th>genres</th>\n      <th>keywords</th>\n      <th>cast</th>\n      <th>crew</th>\n    </tr>\n  </thead>\n  <tbody>\n    <tr>\n      <th>0</th>\n      <td>19995</td>\n      <td>Avatar</td>\n      <td>[In, the, 22nd, century,, a, paraplegic, Marin...</td>\n      <td>[Action, Adventure, Fantasy, Science Fiction]</td>\n      <td>[culture clash, future, space war, space colon...</td>\n      <td>[Sam Worthington, Zoe Saldana, Sigourney Weaver]</td>\n      <td>[James Cameron]</td>\n    </tr>\n    <tr>\n      <th>1</th>\n      <td>285</td>\n      <td>Pirates of the Caribbean: At World's End</td>\n      <td>[Captain, Barbossa,, long, believed, to, be, d...</td>\n      <td>[Adventure, Fantasy, Action]</td>\n      <td>[ocean, drug abuse, exotic island, east india ...</td>\n      <td>[Johnny Depp, Orlando Bloom, Keira Knightley]</td>\n      <td>[Gore Verbinski]</td>\n    </tr>\n    <tr>\n      <th>2</th>\n      <td>206647</td>\n      <td>Spectre</td>\n      <td>[A, cryptic, message, from, Bond’s, past, send...</td>\n      <td>[Action, Adventure, Crime]</td>\n      <td>[spy, based on novel, secret agent, sequel, mi...</td>\n      <td>[Daniel Craig, Christoph Waltz, Léa Seydoux]</td>\n      <td>[Sam Mendes]</td>\n    </tr>\n    <tr>\n      <th>3</th>\n      <td>49026</td>\n      <td>The Dark Knight Rises</td>\n      <td>[Following, the, death, of, District, Attorney...</td>\n      <td>[Action, Crime, Drama, Thriller]</td>\n      <td>[dc comics, crime fighter, terrorist, secret i...</td>\n      <td>[Christian Bale, Michael Caine, Gary Oldman]</td>\n      <td>[Christopher Nolan]</td>\n    </tr>\n    <tr>\n      <th>4</th>\n      <td>49529</td>\n      <td>John Carter</td>\n      <td>[John, Carter, is, a, war-weary,, former, mili...</td>\n      <td>[Action, Adventure, Science Fiction]</td>\n      <td>[based on novel, mars, medallion, space travel...</td>\n      <td>[Taylor Kitsch, Lynn Collins, Samantha Morton]</td>\n      <td>[Andrew Stanton]</td>\n    </tr>\n  </tbody>\n</table>\n</div>"
          },
          "metadata": {}
        }
      ],
      "execution_count": 103
    },
    {
      "cell_type": "code",
      "source": "movies['genres'] = movies['genres'].apply(lambda x:[i.replace(\" \",\"\") for i in x])\nmovies['keywords'] = movies['keywords'].apply(lambda x:[i.replace(\" \",\"\") for i in x])\nmovies['cast'] = movies['cast'].apply(lambda x:[i.replace(\" \",\"\") for i in x])\nmovies['crew'] = movies['crew'].apply(lambda x:[i.replace(\" \",\"\") for i in x])",
      "metadata": {
        "trusted": true
      },
      "outputs": [],
      "execution_count": 105
    },
    {
      "cell_type": "code",
      "source": "movies.head()",
      "metadata": {
        "trusted": true
      },
      "outputs": [
        {
          "execution_count": 106,
          "output_type": "execute_result",
          "data": {
            "text/plain": "   movie_id                                     title  \\\n0     19995                                    Avatar   \n1       285  Pirates of the Caribbean: At World's End   \n2    206647                                   Spectre   \n3     49026                     The Dark Knight Rises   \n4     49529                               John Carter   \n\n                                            overview  \\\n0  [In, the, 22nd, century,, a, paraplegic, Marin...   \n1  [Captain, Barbossa,, long, believed, to, be, d...   \n2  [A, cryptic, message, from, Bond’s, past, send...   \n3  [Following, the, death, of, District, Attorney...   \n4  [John, Carter, is, a, war-weary,, former, mili...   \n\n                                         genres  \\\n0  [Action, Adventure, Fantasy, ScienceFiction]   \n1                  [Adventure, Fantasy, Action]   \n2                    [Action, Adventure, Crime]   \n3              [Action, Crime, Drama, Thriller]   \n4           [Action, Adventure, ScienceFiction]   \n\n                                            keywords  \\\n0  [cultureclash, future, spacewar, spacecolony, ...   \n1  [ocean, drugabuse, exoticisland, eastindiatrad...   \n2  [spy, basedonnovel, secretagent, sequel, mi6, ...   \n3  [dccomics, crimefighter, terrorist, secretiden...   \n4  [basedonnovel, mars, medallion, spacetravel, p...   \n\n                                            cast                crew  \n0  [SamWorthington, ZoeSaldana, SigourneyWeaver]      [JamesCameron]  \n1     [JohnnyDepp, OrlandoBloom, KeiraKnightley]     [GoreVerbinski]  \n2      [DanielCraig, ChristophWaltz, LéaSeydoux]         [SamMendes]  \n3      [ChristianBale, MichaelCaine, GaryOldman]  [ChristopherNolan]  \n4    [TaylorKitsch, LynnCollins, SamanthaMorton]     [AndrewStanton]  ",
            "text/html": "<div>\n<style scoped>\n    .dataframe tbody tr th:only-of-type {\n        vertical-align: middle;\n    }\n\n    .dataframe tbody tr th {\n        vertical-align: top;\n    }\n\n    .dataframe thead th {\n        text-align: right;\n    }\n</style>\n<table border=\"1\" class=\"dataframe\">\n  <thead>\n    <tr style=\"text-align: right;\">\n      <th></th>\n      <th>movie_id</th>\n      <th>title</th>\n      <th>overview</th>\n      <th>genres</th>\n      <th>keywords</th>\n      <th>cast</th>\n      <th>crew</th>\n    </tr>\n  </thead>\n  <tbody>\n    <tr>\n      <th>0</th>\n      <td>19995</td>\n      <td>Avatar</td>\n      <td>[In, the, 22nd, century,, a, paraplegic, Marin...</td>\n      <td>[Action, Adventure, Fantasy, ScienceFiction]</td>\n      <td>[cultureclash, future, spacewar, spacecolony, ...</td>\n      <td>[SamWorthington, ZoeSaldana, SigourneyWeaver]</td>\n      <td>[JamesCameron]</td>\n    </tr>\n    <tr>\n      <th>1</th>\n      <td>285</td>\n      <td>Pirates of the Caribbean: At World's End</td>\n      <td>[Captain, Barbossa,, long, believed, to, be, d...</td>\n      <td>[Adventure, Fantasy, Action]</td>\n      <td>[ocean, drugabuse, exoticisland, eastindiatrad...</td>\n      <td>[JohnnyDepp, OrlandoBloom, KeiraKnightley]</td>\n      <td>[GoreVerbinski]</td>\n    </tr>\n    <tr>\n      <th>2</th>\n      <td>206647</td>\n      <td>Spectre</td>\n      <td>[A, cryptic, message, from, Bond’s, past, send...</td>\n      <td>[Action, Adventure, Crime]</td>\n      <td>[spy, basedonnovel, secretagent, sequel, mi6, ...</td>\n      <td>[DanielCraig, ChristophWaltz, LéaSeydoux]</td>\n      <td>[SamMendes]</td>\n    </tr>\n    <tr>\n      <th>3</th>\n      <td>49026</td>\n      <td>The Dark Knight Rises</td>\n      <td>[Following, the, death, of, District, Attorney...</td>\n      <td>[Action, Crime, Drama, Thriller]</td>\n      <td>[dccomics, crimefighter, terrorist, secretiden...</td>\n      <td>[ChristianBale, MichaelCaine, GaryOldman]</td>\n      <td>[ChristopherNolan]</td>\n    </tr>\n    <tr>\n      <th>4</th>\n      <td>49529</td>\n      <td>John Carter</td>\n      <td>[John, Carter, is, a, war-weary,, former, mili...</td>\n      <td>[Action, Adventure, ScienceFiction]</td>\n      <td>[basedonnovel, mars, medallion, spacetravel, p...</td>\n      <td>[TaylorKitsch, LynnCollins, SamanthaMorton]</td>\n      <td>[AndrewStanton]</td>\n    </tr>\n  </tbody>\n</table>\n</div>"
          },
          "metadata": {}
        }
      ],
      "execution_count": 106
    },
    {
      "cell_type": "code",
      "source": "movies['tags'] = movies['overview'] + movies['keywords'] + movies['cast'] + movies['crew']",
      "metadata": {
        "trusted": true
      },
      "outputs": [],
      "execution_count": 107
    },
    {
      "cell_type": "code",
      "source": "movies.head()",
      "metadata": {
        "trusted": true
      },
      "outputs": [
        {
          "execution_count": 108,
          "output_type": "execute_result",
          "data": {
            "text/plain": "   movie_id                                     title  \\\n0     19995                                    Avatar   \n1       285  Pirates of the Caribbean: At World's End   \n2    206647                                   Spectre   \n3     49026                     The Dark Knight Rises   \n4     49529                               John Carter   \n\n                                            overview  \\\n0  [In, the, 22nd, century,, a, paraplegic, Marin...   \n1  [Captain, Barbossa,, long, believed, to, be, d...   \n2  [A, cryptic, message, from, Bond’s, past, send...   \n3  [Following, the, death, of, District, Attorney...   \n4  [John, Carter, is, a, war-weary,, former, mili...   \n\n                                         genres  \\\n0  [Action, Adventure, Fantasy, ScienceFiction]   \n1                  [Adventure, Fantasy, Action]   \n2                    [Action, Adventure, Crime]   \n3              [Action, Crime, Drama, Thriller]   \n4           [Action, Adventure, ScienceFiction]   \n\n                                            keywords  \\\n0  [cultureclash, future, spacewar, spacecolony, ...   \n1  [ocean, drugabuse, exoticisland, eastindiatrad...   \n2  [spy, basedonnovel, secretagent, sequel, mi6, ...   \n3  [dccomics, crimefighter, terrorist, secretiden...   \n4  [basedonnovel, mars, medallion, spacetravel, p...   \n\n                                            cast                crew  \\\n0  [SamWorthington, ZoeSaldana, SigourneyWeaver]      [JamesCameron]   \n1     [JohnnyDepp, OrlandoBloom, KeiraKnightley]     [GoreVerbinski]   \n2      [DanielCraig, ChristophWaltz, LéaSeydoux]         [SamMendes]   \n3      [ChristianBale, MichaelCaine, GaryOldman]  [ChristopherNolan]   \n4    [TaylorKitsch, LynnCollins, SamanthaMorton]     [AndrewStanton]   \n\n                                                tags  \n0  [In, the, 22nd, century,, a, paraplegic, Marin...  \n1  [Captain, Barbossa,, long, believed, to, be, d...  \n2  [A, cryptic, message, from, Bond’s, past, send...  \n3  [Following, the, death, of, District, Attorney...  \n4  [John, Carter, is, a, war-weary,, former, mili...  ",
            "text/html": "<div>\n<style scoped>\n    .dataframe tbody tr th:only-of-type {\n        vertical-align: middle;\n    }\n\n    .dataframe tbody tr th {\n        vertical-align: top;\n    }\n\n    .dataframe thead th {\n        text-align: right;\n    }\n</style>\n<table border=\"1\" class=\"dataframe\">\n  <thead>\n    <tr style=\"text-align: right;\">\n      <th></th>\n      <th>movie_id</th>\n      <th>title</th>\n      <th>overview</th>\n      <th>genres</th>\n      <th>keywords</th>\n      <th>cast</th>\n      <th>crew</th>\n      <th>tags</th>\n    </tr>\n  </thead>\n  <tbody>\n    <tr>\n      <th>0</th>\n      <td>19995</td>\n      <td>Avatar</td>\n      <td>[In, the, 22nd, century,, a, paraplegic, Marin...</td>\n      <td>[Action, Adventure, Fantasy, ScienceFiction]</td>\n      <td>[cultureclash, future, spacewar, spacecolony, ...</td>\n      <td>[SamWorthington, ZoeSaldana, SigourneyWeaver]</td>\n      <td>[JamesCameron]</td>\n      <td>[In, the, 22nd, century,, a, paraplegic, Marin...</td>\n    </tr>\n    <tr>\n      <th>1</th>\n      <td>285</td>\n      <td>Pirates of the Caribbean: At World's End</td>\n      <td>[Captain, Barbossa,, long, believed, to, be, d...</td>\n      <td>[Adventure, Fantasy, Action]</td>\n      <td>[ocean, drugabuse, exoticisland, eastindiatrad...</td>\n      <td>[JohnnyDepp, OrlandoBloom, KeiraKnightley]</td>\n      <td>[GoreVerbinski]</td>\n      <td>[Captain, Barbossa,, long, believed, to, be, d...</td>\n    </tr>\n    <tr>\n      <th>2</th>\n      <td>206647</td>\n      <td>Spectre</td>\n      <td>[A, cryptic, message, from, Bond’s, past, send...</td>\n      <td>[Action, Adventure, Crime]</td>\n      <td>[spy, basedonnovel, secretagent, sequel, mi6, ...</td>\n      <td>[DanielCraig, ChristophWaltz, LéaSeydoux]</td>\n      <td>[SamMendes]</td>\n      <td>[A, cryptic, message, from, Bond’s, past, send...</td>\n    </tr>\n    <tr>\n      <th>3</th>\n      <td>49026</td>\n      <td>The Dark Knight Rises</td>\n      <td>[Following, the, death, of, District, Attorney...</td>\n      <td>[Action, Crime, Drama, Thriller]</td>\n      <td>[dccomics, crimefighter, terrorist, secretiden...</td>\n      <td>[ChristianBale, MichaelCaine, GaryOldman]</td>\n      <td>[ChristopherNolan]</td>\n      <td>[Following, the, death, of, District, Attorney...</td>\n    </tr>\n    <tr>\n      <th>4</th>\n      <td>49529</td>\n      <td>John Carter</td>\n      <td>[John, Carter, is, a, war-weary,, former, mili...</td>\n      <td>[Action, Adventure, ScienceFiction]</td>\n      <td>[basedonnovel, mars, medallion, spacetravel, p...</td>\n      <td>[TaylorKitsch, LynnCollins, SamanthaMorton]</td>\n      <td>[AndrewStanton]</td>\n      <td>[John, Carter, is, a, war-weary,, former, mili...</td>\n    </tr>\n  </tbody>\n</table>\n</div>"
          },
          "metadata": {}
        }
      ],
      "execution_count": 108
    },
    {
      "cell_type": "code",
      "source": "new_df = movies[['movie_id', 'title', 'tags']]",
      "metadata": {
        "trusted": true
      },
      "outputs": [],
      "execution_count": 109
    },
    {
      "cell_type": "code",
      "source": "new_df['tags'] = new_df['tags'].apply(lambda x: \" \".join(x))",
      "metadata": {
        "trusted": true
      },
      "outputs": [
        {
          "name": "stderr",
          "text": "<ipython-input-112-e498c0e361a2>:1: SettingWithCopyWarning: \nA value is trying to be set on a copy of a slice from a DataFrame.\nTry using .loc[row_indexer,col_indexer] = value instead\n\nSee the caveats in the documentation: https://pandas.pydata.org/pandas-docs/stable/user_guide/indexing.html#returning-a-view-versus-a-copy\n  new_df['tags'] = new_df['tags'].apply(lambda x: \" \".join(x))\n",
          "output_type": "stream"
        }
      ],
      "execution_count": 112
    },
    {
      "cell_type": "code",
      "source": "new_df.head()",
      "metadata": {
        "trusted": true
      },
      "outputs": [
        {
          "execution_count": 113,
          "output_type": "execute_result",
          "data": {
            "text/plain": "   movie_id                                     title  \\\n0     19995                                    Avatar   \n1       285  Pirates of the Caribbean: At World's End   \n2    206647                                   Spectre   \n3     49026                     The Dark Knight Rises   \n4     49529                               John Carter   \n\n                                                tags  \n0  In the 22nd century, a paraplegic Marine is di...  \n1  Captain Barbossa, long believed to be dead, ha...  \n2  A cryptic message from Bond’s past sends him o...  \n3  Following the death of District Attorney Harve...  \n4  John Carter is a war-weary, former military ca...  ",
            "text/html": "<div>\n<style scoped>\n    .dataframe tbody tr th:only-of-type {\n        vertical-align: middle;\n    }\n\n    .dataframe tbody tr th {\n        vertical-align: top;\n    }\n\n    .dataframe thead th {\n        text-align: right;\n    }\n</style>\n<table border=\"1\" class=\"dataframe\">\n  <thead>\n    <tr style=\"text-align: right;\">\n      <th></th>\n      <th>movie_id</th>\n      <th>title</th>\n      <th>tags</th>\n    </tr>\n  </thead>\n  <tbody>\n    <tr>\n      <th>0</th>\n      <td>19995</td>\n      <td>Avatar</td>\n      <td>In the 22nd century, a paraplegic Marine is di...</td>\n    </tr>\n    <tr>\n      <th>1</th>\n      <td>285</td>\n      <td>Pirates of the Caribbean: At World's End</td>\n      <td>Captain Barbossa, long believed to be dead, ha...</td>\n    </tr>\n    <tr>\n      <th>2</th>\n      <td>206647</td>\n      <td>Spectre</td>\n      <td>A cryptic message from Bond’s past sends him o...</td>\n    </tr>\n    <tr>\n      <th>3</th>\n      <td>49026</td>\n      <td>The Dark Knight Rises</td>\n      <td>Following the death of District Attorney Harve...</td>\n    </tr>\n    <tr>\n      <th>4</th>\n      <td>49529</td>\n      <td>John Carter</td>\n      <td>John Carter is a war-weary, former military ca...</td>\n    </tr>\n  </tbody>\n</table>\n</div>"
          },
          "metadata": {}
        }
      ],
      "execution_count": 113
    },
    {
      "cell_type": "code",
      "source": "# converting into lowercase\nnew_df['tags'] = new_df['tags'].apply(lambda x:x.lower()) ",
      "metadata": {
        "trusted": true
      },
      "outputs": [
        {
          "name": "stderr",
          "text": "<ipython-input-114-aadb16bb5375>:2: SettingWithCopyWarning: \nA value is trying to be set on a copy of a slice from a DataFrame.\nTry using .loc[row_indexer,col_indexer] = value instead\n\nSee the caveats in the documentation: https://pandas.pydata.org/pandas-docs/stable/user_guide/indexing.html#returning-a-view-versus-a-copy\n  new_df['tags'] = new_df['tags'].apply(lambda x:x.lower())\n",
          "output_type": "stream"
        }
      ],
      "execution_count": 114
    },
    {
      "cell_type": "code",
      "source": "new_df.head()",
      "metadata": {
        "trusted": true
      },
      "outputs": [
        {
          "execution_count": 115,
          "output_type": "execute_result",
          "data": {
            "text/plain": "   movie_id                                     title  \\\n0     19995                                    Avatar   \n1       285  Pirates of the Caribbean: At World's End   \n2    206647                                   Spectre   \n3     49026                     The Dark Knight Rises   \n4     49529                               John Carter   \n\n                                                tags  \n0  in the 22nd century, a paraplegic marine is di...  \n1  captain barbossa, long believed to be dead, ha...  \n2  a cryptic message from bond’s past sends him o...  \n3  following the death of district attorney harve...  \n4  john carter is a war-weary, former military ca...  ",
            "text/html": "<div>\n<style scoped>\n    .dataframe tbody tr th:only-of-type {\n        vertical-align: middle;\n    }\n\n    .dataframe tbody tr th {\n        vertical-align: top;\n    }\n\n    .dataframe thead th {\n        text-align: right;\n    }\n</style>\n<table border=\"1\" class=\"dataframe\">\n  <thead>\n    <tr style=\"text-align: right;\">\n      <th></th>\n      <th>movie_id</th>\n      <th>title</th>\n      <th>tags</th>\n    </tr>\n  </thead>\n  <tbody>\n    <tr>\n      <th>0</th>\n      <td>19995</td>\n      <td>Avatar</td>\n      <td>in the 22nd century, a paraplegic marine is di...</td>\n    </tr>\n    <tr>\n      <th>1</th>\n      <td>285</td>\n      <td>Pirates of the Caribbean: At World's End</td>\n      <td>captain barbossa, long believed to be dead, ha...</td>\n    </tr>\n    <tr>\n      <th>2</th>\n      <td>206647</td>\n      <td>Spectre</td>\n      <td>a cryptic message from bond’s past sends him o...</td>\n    </tr>\n    <tr>\n      <th>3</th>\n      <td>49026</td>\n      <td>The Dark Knight Rises</td>\n      <td>following the death of district attorney harve...</td>\n    </tr>\n    <tr>\n      <th>4</th>\n      <td>49529</td>\n      <td>John Carter</td>\n      <td>john carter is a war-weary, former military ca...</td>\n    </tr>\n  </tbody>\n</table>\n</div>"
          },
          "metadata": {}
        }
      ],
      "execution_count": 115
    },
    {
      "cell_type": "code",
      "source": "import nltk",
      "metadata": {
        "trusted": true
      },
      "outputs": [],
      "execution_count": 128
    },
    {
      "cell_type": "code",
      "source": "from nltk.stem.porter import PorterStemmer\nps = PorterStemmer()",
      "metadata": {
        "trusted": true
      },
      "outputs": [],
      "execution_count": 129
    },
    {
      "cell_type": "code",
      "source": "def stem(text):\n    y = []\n    for i in text.split():\n        y.append(ps.stem(i))\n    return \" \".join(y)\n",
      "metadata": {
        "trusted": true
      },
      "outputs": [],
      "execution_count": 130
    },
    {
      "cell_type": "code",
      "source": "new_df['tags'] = new_df['tags'].apply(stem)",
      "metadata": {
        "trusted": true
      },
      "outputs": [
        {
          "name": "stderr",
          "text": "<ipython-input-132-be18a4346d89>:1: SettingWithCopyWarning: \nA value is trying to be set on a copy of a slice from a DataFrame.\nTry using .loc[row_indexer,col_indexer] = value instead\n\nSee the caveats in the documentation: https://pandas.pydata.org/pandas-docs/stable/user_guide/indexing.html#returning-a-view-versus-a-copy\n  new_df['tags'] = new_df['tags'].apply(stem)\n",
          "output_type": "stream"
        }
      ],
      "execution_count": 132
    },
    {
      "cell_type": "code",
      "source": "# text vecorization\nfrom sklearn.feature_extraction.text import CountVectorizer \ncv = CountVectorizer(max_features = 5000, stop_words='english')",
      "metadata": {
        "trusted": true
      },
      "outputs": [],
      "execution_count": 133
    },
    {
      "cell_type": "code",
      "source": "vectors = cv.fit_transform(new_df['tags']).toarray()",
      "metadata": {
        "trusted": true
      },
      "outputs": [],
      "execution_count": 134
    },
    {
      "cell_type": "code",
      "source": "vectors",
      "metadata": {
        "trusted": true
      },
      "outputs": [
        {
          "execution_count": 135,
          "output_type": "execute_result",
          "data": {
            "text/plain": "array([[0, 0, 0, ..., 0, 0, 0],\n       [0, 0, 0, ..., 0, 0, 0],\n       [0, 0, 0, ..., 0, 0, 0],\n       ...,\n       [0, 0, 0, ..., 0, 0, 0],\n       [0, 0, 0, ..., 0, 0, 0],\n       [0, 0, 0, ..., 0, 0, 0]], dtype=int64)"
          },
          "metadata": {}
        }
      ],
      "execution_count": 135
    },
    {
      "cell_type": "code",
      "source": "cv.get_feature_names_out()",
      "metadata": {
        "trusted": true
      },
      "outputs": [
        {
          "execution_count": 138,
          "output_type": "execute_result",
          "data": {
            "text/plain": "array(['000', '007', '10', ..., 'zone', 'zoo', 'zooeydeschanel'],\n      dtype=object)"
          },
          "metadata": {}
        }
      ],
      "execution_count": 138
    },
    {
      "cell_type": "code",
      "source": "# calculate cosine distance\nfrom sklearn.metrics.pairwise import cosine_similarity",
      "metadata": {
        "trusted": true
      },
      "outputs": [],
      "execution_count": 139
    },
    {
      "cell_type": "code",
      "source": "similarity = cosine_similarity(vectors)",
      "metadata": {
        "trusted": true
      },
      "outputs": [],
      "execution_count": 141
    },
    {
      "cell_type": "code",
      "source": "sorted(list(enumerate(similarity[0])),reverse =True, key = lambda x:x[1])[1:6]",
      "metadata": {
        "trusted": true
      },
      "outputs": [
        {
          "execution_count": 142,
          "output_type": "execute_result",
          "data": {
            "text/plain": "[(1216, 0.25142264225703365),\n (2409, 0.24404676504598818),\n (582, 0.21613144789263333),\n (507, 0.20812378052829614),\n (3730, 0.20797258270192573)]"
          },
          "metadata": {}
        }
      ],
      "execution_count": 142
    },
    {
      "cell_type": "code",
      "source": "def recommend(movie):\n    movie_index = new_df[new_df['title'] == movie].index[0]\n    distances = similarity[movie_index]\n    movies_list = sorted(list(enumerate(distances)),reverse =True, key = lambda x:x[1])[1:6]\n\n    for i in movies_list:\n        print(new_df.iloc[i[0]].title)\n    ",
      "metadata": {
        "trusted": true
      },
      "outputs": [],
      "execution_count": 143
    },
    {
      "cell_type": "code",
      "source": "recommend('Batman Begins')",
      "metadata": {
        "trusted": true
      },
      "outputs": [
        {
          "name": "stdout",
          "text": "The Dark Knight\nBatman\nBatman\nBatman v Superman: Dawn of Justice\nSynecdoche, New York\n",
          "output_type": "stream"
        }
      ],
      "execution_count": 144
    },
    {
      "cell_type": "code",
      "source": "",
      "metadata": {
        "trusted": true
      },
      "outputs": [],
      "execution_count": null
    }
  ]
}